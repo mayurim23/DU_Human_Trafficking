{
 "cells": [
  {
   "cell_type": "code",
   "execution_count": null,
   "metadata": {},
   "outputs": [],
   "source": [
    "\n",
    "import pandas as pd\n",
    "\n",
    "data1_2008 = pd.read_excel(\"Directionality Coding 2008-2016.xlsx\", sheet_name=\"2008\")\n",
    "data1_sheet1 = pd.read_excel(\"Directionality Coding 2008-2016.xlsx\", sheet_name=\"Sheet1\")\n",
    "data1_2009 = pd.read_excel(\"Directionality Coding 2008-2016.xlsx\", sheet_name=\"2009 RECODE\")\n",
    "data1_2010 = pd.read_excel(\"Directionality Coding 2008-2016.xlsx\", sheet_name=\"2010\")\n",
    "data1_2011 = pd.read_excel(\"Directionality Coding 2008-2016.xlsx\", sheet_name=\"2011\")\n",
    "data1_2012 = pd.read_excel(\"Directionality Coding 2008-2016.xlsx\", sheet_name=\"2012\")\n",
    "data1_2013 = pd.read_excel(\"Directionality Coding 2008-2016.xlsx\", sheet_name=\"2013\")\n",
    "data1_2014 = pd.read_excel(\"Directionality Coding 2008-2016.xlsx\", sheet_name=\"2014\")\n",
    "data1_2015 = pd.read_excel(\"Directionality Coding 2008-2016.xlsx\", sheet_name=\"2015\")\n",
    "data1_2016 = pd.read_excel(\"Directionality Coding 2008-2016.xlsx\", sheet_name=\"2016\")"
   ]
  },
  {
   "cell_type": "code",
   "execution_count": null,
   "metadata": {},
   "outputs": [],
   "source": [
    "data2 = pd.read_excel(\"Human Trafficking Index Dataset\")\n",
    "\n",
    " \n",
    "print(data1_2008.shape)\n",
    "print(data1_sheet1.shape)\n",
    "print(data1_2009.shape)\n",
    "print(data1_2010.shape)\n",
    "print(data1_2008.shape)\n",
    "print(data1_2008.shape)\n",
    "print(data1_2008.shape)"
   ]
  }
 ],
 "metadata": {
  "kernelspec": {
   "display_name": "Python 3",
   "language": "python",
   "name": "python3"
  },
  "language_info": {
   "codemirror_mode": {
    "name": "ipython",
    "version": 3
   },
   "file_extension": ".py",
   "mimetype": "text/x-python",
   "name": "python",
   "nbconvert_exporter": "python",
   "pygments_lexer": "ipython3",
   "version": "3.6.4"
  }
 },
 "nbformat": 4,
 "nbformat_minor": 2
}
